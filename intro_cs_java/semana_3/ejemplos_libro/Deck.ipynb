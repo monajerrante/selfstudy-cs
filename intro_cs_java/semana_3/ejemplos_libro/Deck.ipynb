{
 "cells": [
  {
   "cell_type": "code",
   "execution_count": 1,
   "id": "e283ead4",
   "metadata": {},
   "outputs": [
    {
     "name": "stdout",
     "output_type": "stream",
     "text": [
      "52\n",
      "<class 'list'>\n"
     ]
    }
   ],
   "source": [
    "# https://es.wikipedia.org/wiki/Baraja\n",
    "\n",
    "SUITS = [\"Clubs\", \"Diamonds\", \"Hearts\", \"Spades\"]\n",
    "\n",
    "RANKS = [\"2\", \"3\", \"4\", \"5\", \"6\", \"7\", \"8\", \"9\", \"10\",\n",
    "         \"Jack\", \"Queen\", \"King\", \"Ace\"]\n",
    "\n",
    "DECK = [\"\"] * (len(SUITS)*len(RANKS))\n",
    "\n",
    "print(len(DECK))\n",
    "print(type(DECK))"
   ]
  },
  {
   "cell_type": "code",
   "execution_count": 4,
   "id": "48fb5560",
   "metadata": {},
   "outputs": [
    {
     "name": "stdout",
     "output_type": "stream",
     "text": [
      "2 of Clubs   3 of Clubs   4 of Clubs   5 of Clubs   6 of Clubs   7 of Clubs   8 of Clubs   9 of Clubs   10 of Clubs   Jack of Clubs   Queen of Clubs   King of Clubs   Ace of Clubs   \n",
      "2 of Diamonds   3 of Diamonds   4 of Diamonds   5 of Diamonds   6 of Diamonds   7 of Diamonds   8 of Diamonds   9 of Diamonds   10 of Diamonds   Jack of Diamonds   Queen of Diamonds   King of Diamonds   Ace of Diamonds   \n",
      "2 of Hearts   3 of Hearts   4 of Hearts   5 of Hearts   6 of Hearts   7 of Hearts   8 of Hearts   9 of Hearts   10 of Hearts   Jack of Hearts   Queen of Hearts   King of Hearts   Ace of Hearts   \n",
      "2 of Spades   3 of Spades   4 of Spades   5 of Spades   6 of Spades   7 of Spades   8 of Spades   9 of Spades   10 of Spades   Jack of Spades   Queen of Spades   King of Spades   Ace of Spades   \n"
     ]
    }
   ],
   "source": [
    "# Imprimirá todo baraja inglesa :)\n",
    "for i in range(len(SUITS)):\n",
    "    for j in range(len(RANKS)):\n",
    "        print(\"{} of {} \".format(RANKS[j], SUITS[i]), end='  ')\n",
    "    print()"
   ]
  },
  {
   "cell_type": "code",
   "execution_count": 8,
   "id": "83c2aaf5",
   "metadata": {},
   "outputs": [
    {
     "name": "stdout",
     "output_type": "stream",
     "text": [
      "['2 of Clubs', '2 of Diamonds', '2 of Hearts', '2 of Spades', '3 of Clubs', '3 of Diamonds', '3 of Hearts', '3 of Spades', '4 of Clubs', '4 of Diamonds', '4 of Hearts', '4 of Spades', '5 of Clubs', '5 of Diamonds', '5 of Hearts', '5 of Spades', '6 of Clubs', '6 of Diamonds', '6 of Hearts', '6 of Spades', '7 of Clubs', '7 of Diamonds', '7 of Hearts', '7 of Spades', '8 of Clubs', '8 of Diamonds', '8 of Hearts', '8 of Spades', '9 of Clubs', '9 of Diamonds', '9 of Hearts', '9 of Spades', '10 of Clubs', '10 of Diamonds', '10 of Hearts', '10 of Spades', 'Jack of Clubs', 'Jack of Diamonds', 'Jack of Hearts', 'Jack of Spades', 'Queen of Clubs', 'Queen of Diamonds', 'Queen of Hearts', 'Queen of Spades', 'King of Clubs', 'King of Diamonds', 'King of Hearts', 'King of Spades', 'Ace of Clubs', 'Ace of Diamonds', 'Ace of Hearts', 'Ace of Spades']\n"
     ]
    }
   ],
   "source": [
    "# Ahora es el momento de establecer los valores\n",
    "# para los elementos de la lista DECK  usando índices.\n",
    "# Suponemos que DECK es una matriz unidimensional\n",
    "# Esto es ORIGINAL pero quiero realizar en otra manera....\n",
    "for i in range(len(RANKS)):\n",
    "    for j in range(len(SUITS)):\n",
    "        DECK[len(SUITS)*i + j] = RANKS[i] + \" of \" + SUITS[j]\n",
    "print([i for i in DECK])"
   ]
  },
  {
   "cell_type": "code",
   "execution_count": 9,
   "id": "63cc0b66",
   "metadata": {},
   "outputs": [
    {
     "name": "stdout",
     "output_type": "stream",
     "text": [
      "['2 of Clubs', '3 of Clubs', '4 of Clubs', '5 of Clubs', '6 of Clubs', '7 of Clubs', '8 of Clubs', '9 of Clubs', '10 of Clubs', 'Jack of Clubs', 'Queen of Clubs', 'King of Clubs', 'Ace of Clubs', '2 of Diamonds', '3 of Diamonds', '4 of Diamonds', '5 of Diamonds', '6 of Diamonds', '7 of Diamonds', '8 of Diamonds', '9 of Diamonds', '10 of Diamonds', 'Jack of Diamonds', 'Queen of Diamonds', 'King of Diamonds', 'Ace of Diamonds', '2 of Hearts', '3 of Hearts', '4 of Hearts', '5 of Hearts', '6 of Hearts', '7 of Hearts', '8 of Hearts', '9 of Hearts', '10 of Hearts', 'Jack of Hearts', 'Queen of Hearts', 'King of Hearts', 'Ace of Hearts', '2 of Spades', '3 of Spades', '4 of Spades', '5 of Spades', '6 of Spades', '7 of Spades', '8 of Spades', '9 of Spades', '10 of Spades', 'Jack of Spades', 'Queen of Spades', 'King of Spades', 'Ace of Spades']\n"
     ]
    }
   ],
   "source": [
    "# Esto es ORIGINAL pero quiero realizar en otra manera....\n",
    "for i in range(len(SUITS)):\n",
    "    for j in range(len(RANKS)):\n",
    "        DECK[len(RANKS)*i + j] = RANKS[j] + \" of \" + SUITS[i]\n",
    "print([i for i in DECK])"
   ]
  },
  {
   "cell_type": "code",
   "execution_count": null,
   "id": "8c477ae7",
   "metadata": {},
   "outputs": [],
   "source": [
    "Ya esta! LISTO"
   ]
  }
 ],
 "metadata": {
  "kernelspec": {
   "display_name": "Python 3 (ipykernel)",
   "language": "python",
   "name": "python3"
  },
  "language_info": {
   "codemirror_mode": {
    "name": "ipython",
    "version": 3
   },
   "file_extension": ".py",
   "mimetype": "text/x-python",
   "name": "python",
   "nbconvert_exporter": "python",
   "pygments_lexer": "ipython3",
   "version": "3.9.13"
  }
 },
 "nbformat": 4,
 "nbformat_minor": 5
}
