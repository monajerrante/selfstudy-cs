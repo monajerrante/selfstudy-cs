{
 "cells": [
  {
   "cell_type": "markdown",
   "id": "3f42a0b9",
   "metadata": {},
   "source": [
    "CS: An Interdisiplinary Approach\\\n",
    "Listado 1.4.1.\n",
    "## Випадкова вибірка без заміни\n",
    "#### Muestreo aleatorio sin reemplazo\n",
    "``` java\n",
    "/********************************************************************\n",
    " * m ->      розмір вибірки \n",
    " *           // tamaño de la muestra\n",
    " * n ->      діапозон                           \n",
    " *           // rango\n",
    " * perm[] -> перестановка діапазону від 0 до 10\n",
    " *           // permutación del rango de 0 a n-1\n",
    " **********************************************************************/\n",
    " public class Sample {\n",
    "     public static void main(String[] args) {\n",
    "         // Salida de una muestra aleatoria de n enteros\n",
    "         // de 0 a n-1 (sin repeticiones)\n",
    "         int m = Integer.parseInt(args[0]);\n",
    "         int n = Integer.parseInt(args[1]);\n",
    "         int[] perm = new int[n];\n",
    "         \n",
    "         // Inicializacion perm[]\n",
    "         for (int j = 0; j < n; j++)\n",
    "             perm[j] = j;\n",
    "             \n",
    "         // Obteniendo la muestra\n",
    "         for (int i = 0; i < m; i++) {\n",
    "             // perm[i] cambia de lugar con un elemento aleatorio\n",
    "             int r = i + (int)(Math.random()*(n-i));\n",
    "             int t= perm[r];\n",
    "             perm[r] = perm[i];\n",
    "             perm[i] = t;\n",
    "         }\n",
    "         \n",
    "         // Imprimir la muestra\n",
    "         for (int i = 0; i < m; i++) {\n",
    "             System.out.print( perm[i] + \" \");\n",
    "         }\n",
    "         \n",
    "         System.out.println();\n",
    "     }\n",
    "}\n",
    "```"
   ]
  },
  {
   "cell_type": "code",
   "execution_count": 10,
   "id": "8d049383",
   "metadata": {},
   "outputs": [
    {
     "name": "stdout",
     "output_type": "stream",
     "text": [
      "4\n",
      "8\n",
      "0 1 2 3 4 5 6 7\n",
      "6 1 7 5\n",
      "6 1 7 5 4 3 0 2\n"
     ]
    }
   ],
   "source": [
    "# traductó codigo fuente en Java a Python\n",
    "\n",
    "# Salida de una muestra aleatoria de n enteros\n",
    "# de 0 a n-1 (sin repeticiones)\n",
    "\n",
    "import random\n",
    "\n",
    "m = int(input())  # tamaño de la muestra // розмір вибірки\n",
    "n = int(input())  # rango                //   діапозон                           \n",
    "\n",
    "#Inicializacion perm[]\n",
    "perm = [i for i in range(n)]\n",
    "print(*perm)\n",
    "\n",
    "# Obteniendo la muestra\n",
    "for i in range(m):\n",
    "    # perm[i] cambia de lugar con un elemento aleatorio\n",
    "    r = random.randint(0, n-i-1) + i\n",
    "    t = perm[r]\n",
    "    perm[r] = perm[i]\n",
    "    perm[i] = t\n",
    "\n",
    "\n",
    "# Imprimir la muestra\n",
    "print(*[perm[i] for i in range(m)])\n",
    "print(*perm)"
   ]
  }
 ],
 "metadata": {
  "kernelspec": {
   "display_name": "Python 3 (ipykernel)",
   "language": "python",
   "name": "python3"
  },
  "language_info": {
   "codemirror_mode": {
    "name": "ipython",
    "version": 3
   },
   "file_extension": ".py",
   "mimetype": "text/x-python",
   "name": "python",
   "nbconvert_exporter": "python",
   "pygments_lexer": "ipython3",
   "version": "3.9.13"
  }
 },
 "nbformat": 4,
 "nbformat_minor": 5
}
