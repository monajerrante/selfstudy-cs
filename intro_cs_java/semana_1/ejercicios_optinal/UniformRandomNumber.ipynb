{
  "nbformat": 4,
  "nbformat_minor": 0,
  "metadata": {
    "colab": {
      "provenance": []
    },
    "kernelspec": {
      "name": "python3",
      "display_name": "Python 3"
    },
    "language_info": {
      "name": "python"
    }
  },
  "cells": [
    {
      "cell_type": "markdown",
      "source": [
        "``` java\n",
        "/*********************************************************************\n",
        " * Book : \"Computer Science: An Interdisciplinary Approach\"\n",
        " * \n",
        " *\n",
        " * Exercise 1.2.30 Uniform random numbers.\n",
        " * [EN]  Write a program that prints five uniform random numbers\n",
        " *       between 0 and 1, their average value, and their minimum\n",
        " *       and maximum values.\n",
        " *       Use Math.random(), Math.min(), and Math.max().\n",
        " * [RU]  Случайные числа с равномерным распределением. \n",
        " *       Напишите программу, ко­торая выводит пять случайных чисел\n",
        " *       с равномерным распределением в диапазоне от 0 до 1, \n",
        " *       их среднее арифметическое, минимальное и максимальное значения.\n",
        " *\n",
        " * NOTA:  For these two exercises, use only Java features that we have \n",
        " *   introduced in this course so far (e.g,. no loops or conditionals).\n",
        " * NOTA:  Esto podemos realizar facil en Python\n",
        " *        con ayada de numpy\n",
        " **********************************************************************/\n",
        " ```\n"
      ],
      "metadata": {
        "id": "kjCCIrBBP1-4"
      }
    },
    {
      "cell_type": "code",
      "execution_count": 7,
      "metadata": {
        "id": "KOfTDDlW3ATc",
        "colab": {
          "base_uri": "https://localhost:8080/"
        },
        "outputId": "675542b5-385d-47ca-cd2e-c8bd5b765f08"
      },
      "outputs": [
        {
          "output_type": "stream",
          "name": "stdout",
          "text": [
            "[0.1088723  0.37363681 0.34883575 0.69125043 0.74183719]\n"
          ]
        }
      ],
      "source": [
        "import numpy as np\n",
        "\n",
        "s = np.random.uniform(0.00000001,1,5)\n",
        "print(s)"
      ]
    },
    {
      "cell_type": "code",
      "source": [
        "print(np.max(s), np.min(s), np.average(s))"
      ],
      "metadata": {
        "colab": {
          "base_uri": "https://localhost:8080/"
        },
        "id": "Afwe0DxhO_sh",
        "outputId": "3576bf3f-758f-49ba-d685-de772b5eec4c"
      },
      "execution_count": 10,
      "outputs": [
        {
          "output_type": "stream",
          "name": "stdout",
          "text": [
            "0.7418371863918515 0.10887229717351438 0.4528864958448652\n"
          ]
        }
      ]
    },
    {
      "cell_type": "code",
      "source": [
        "print(max(s), min(s), sum(s)/5)"
      ],
      "metadata": {
        "colab": {
          "base_uri": "https://localhost:8080/"
        },
        "id": "Af3QigcqPDcx",
        "outputId": "bf574535-8396-4853-d956-e310c4813a0e"
      },
      "execution_count": 11,
      "outputs": [
        {
          "output_type": "stream",
          "name": "stdout",
          "text": [
            "0.7418371863918515 0.10887229717351438 0.4528864958448652\n"
          ]
        }
      ]
    }
  ]
}