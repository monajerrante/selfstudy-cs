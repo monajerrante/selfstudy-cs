{
 "cells": [
  {
   "cell_type": "markdown",
   "id": "9895fd9d",
   "metadata": {},
   "source": [
    " Course: Computer Science: Programming with a Purpose\\\n",
    " Book  : CS: An Interdisciplinary Approach\n",
    "  \n",
    " ## Tarea de programacion: 02 Thue–Morse weave.\n",
    " \n",
    " Write a program ThueMorse.java that takes an integer\n",
    " command-line argument n and prints an n-by-n pattern\n",
    " like the ones below. Include two space characters between \n",
    " each + and - character.\n",
    "``` python\n",
    "~/Desktop/arrays> java ThueMorse 4 \n",
    "+ - - +                            \n",
    "- + + -                            \n",
    "- + + -                            \n",
    "+ - - +                            \n",
    "```\n",
    "The Thue–Morse sequence is an infinite sequence of 0s and 1s\n",
    "that is constructed by starting with 0 and successively\n",
    "appending the bitwise negation (interchange 0s and 1s) of the\n",
    "existing sequence. Here are the first few steps of this\n",
    "construction:\n",
    "     \n",
    "0                \\\n",
    "01               \\\n",
    "0110             \\\n",
    "01101001         \\\n",
    "0110100110010110 \\\n",
    "\n",
    "To visualize the Thue–Morse sequence, create an n-by-n pattern\n",
    "by printing a + (plus sign) in row i and column j if bits i and j in\n",
    "the sequence are equal, and a - (minus sign) if they are\n",
    "different.\n",
    " \n",
    "Note: you may assume that n is a positive integer (but it need\n",
    "not be a power of 2).\n",
    "\n",
    "The Thue–Morse sequence has many fascinating properties and\n",
    "arises in graphic design and in music composition."
   ]
  },
  {
   "cell_type": "code",
   "execution_count": 10,
   "id": "547bf84d",
   "metadata": {},
   "outputs": [
    {
     "name": "stdout",
     "output_type": "stream",
     "text": [
      "8\n",
      "01101001\n"
     ]
    }
   ],
   "source": [
    "def gen_str(n, res):\n",
    "    res = '0'\n",
    "    while len(res) < n:\n",
    "        for i in res:\n",
    "            if i == '0':\n",
    "                res += '1'\n",
    "            elif i == '1':\n",
    "                res += '0'\n",
    "    return res[:n]\n",
    "\n",
    "\n",
    "size = int(input())\n",
    "for i in ver:\n",
    "    print(gen_str(size, i))\n",
    "    "
   ]
  }
 ],
 "metadata": {
  "kernelspec": {
   "display_name": "Python 3 (ipykernel)",
   "language": "python",
   "name": "python3"
  },
  "language_info": {
   "codemirror_mode": {
    "name": "ipython",
    "version": 3
   },
   "file_extension": ".py",
   "mimetype": "text/x-python",
   "name": "python",
   "nbconvert_exporter": "python",
   "pygments_lexer": "ipython3",
   "version": "3.9.13"
  }
 },
 "nbformat": 4,
 "nbformat_minor": 5
}
